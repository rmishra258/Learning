{
  "nbformat": 4,
  "nbformat_minor": 0,
  "metadata": {
    "colab": {
      "name": "mlp_regressor.ipynb",
      "provenance": []
    },
    "kernelspec": {
      "name": "python3",
      "display_name": "Python 3"
    }
  },
  "cells": [
    {
      "cell_type": "code",
      "metadata": {
        "id": "8c1HAS-R9YX0",
        "colab_type": "code",
        "colab": {}
      },
      "source": [
        ""
      ],
      "execution_count": 0,
      "outputs": []
    },
    {
      "cell_type": "markdown",
      "metadata": {
        "id": "gMMHgrkWsKmH",
        "colab_type": "text"
      },
      "source": [
        "We will use the boston housing price dataset from SKLearn.\n",
        "This dataset consists of various features of a house that hekp in the detrminiation of its price such as area, urban or rural etc"
      ]
    },
    {
      "cell_type": "code",
      "metadata": {
        "id": "mUT4iRA0sdSZ",
        "colab_type": "code",
        "colab": {}
      },
      "source": [
        "from sklearn.neural_network import MLPRegressor\n",
        "from sklearn.datasets import load_boston\n",
        "from sklearn.preprocessing import StandardScaler\n",
        "from sklearn.model_selection import train_test_split\n",
        "from sklearn.model_selection import GridSearchCV\n",
        "from sklearn.metrics import mean_squared_error\n",
        "import pandas as pd\n",
        "import numpy as np\n",
        "from sklearn import preprocessing\n"
      ],
      "execution_count": 0,
      "outputs": []
    },
    {
      "cell_type": "markdown",
      "metadata": {
        "id": "867jhHzNvUG-",
        "colab_type": "text"
      },
      "source": [
        "We then load the dataset and split them into training and testting sets accrodingly"
      ]
    },
    {
      "cell_type": "code",
      "metadata": {
        "id": "p0AhcggIseLP",
        "colab_type": "code",
        "colab": {}
      },
      "source": [
        "boston = load_boston()\n",
        "#df = pd.DataFrame(boston.data, columns = boston.feature_names)\n",
        "X_train, X_test, y_train, y_test = train_test_split(boston.data, boston.target)\n",
        " "
      ],
      "execution_count": 0,
      "outputs": []
    },
    {
      "cell_type": "markdown",
      "metadata": {
        "id": "2AFPgk9UvYdK",
        "colab_type": "text"
      },
      "source": [
        "As discussed in the MLP classifier notes, we need to scale the data before we fit it to the model"
      ]
    },
    {
      "cell_type": "code",
      "metadata": {
        "id": "gts84ayjsi7b",
        "colab_type": "code",
        "colab": {}
      },
      "source": [
        "scaler = StandardScaler()\n",
        "scaler.fit(X_train)\n",
        "X_train = scaler.transform(X_train)\n",
        "X_test = scaler.transform(X_test)"
      ],
      "execution_count": 0,
      "outputs": []
    },
    {
      "cell_type": "markdown",
      "metadata": {
        "id": "BdfSnj0dvfUn",
        "colab_type": "text"
      },
      "source": [
        "We then create an instance of the MLPRegressor class and train it with out training data, also if you note here, we have set the hidden layer to [100,50,100,50] and max iterations to 2000"
      ]
    },
    {
      "cell_type": "code",
      "metadata": {
        "id": "qLeBxBySslo3",
        "colab_type": "code",
        "colab": {}
      },
      "source": [
        "mlp_clf = MLPRegressor(hidden_layer_sizes=(100,50,100,50), max_iter=2000)\n",
        "mlp_clf = clf.fit(X_train, y_train)\n"
      ],
      "execution_count": 0,
      "outputs": []
    },
    {
      "cell_type": "markdown",
      "metadata": {
        "id": "DOzQW0H5vwi6",
        "colab_type": "text"
      },
      "source": [
        "We then check our model performance using MSE (mean squared error) "
      ]
    },
    {
      "cell_type": "code",
      "metadata": {
        "id": "tYdduVHGsq4d",
        "colab_type": "code",
        "colab": {}
      },
      "source": [
        "train_mse = mean_squared_error(y_train, mlp_clf.predict(X_train))\n",
        "test_mse = mean_squared_error(y_test, mlp_clf.predict(X_test))\n"
      ],
      "execution_count": 0,
      "outputs": []
    },
    {
      "cell_type": "code",
      "metadata": {
        "id": "voVbqAYAu5tS",
        "colab_type": "code",
        "colab": {
          "base_uri": "https://localhost:8080/",
          "height": 51
        },
        "outputId": "73c39179-124c-41c3-bfdd-1aa63e6d2ec5"
      },
      "source": [
        "print(\"Train MSE:\", np.round(train_mse,2))\n",
        "print(\"Test MSE:\", np.round(test_mse,2))"
      ],
      "execution_count": 23,
      "outputs": [
        {
          "output_type": "stream",
          "text": [
            "Train MSE: 0.3\n",
            "Test MSE: 14.7\n"
          ],
          "name": "stdout"
        }
      ]
    },
    {
      "cell_type": "code",
      "metadata": {
        "id": "HqsbAmxEvHqq",
        "colab_type": "code",
        "colab": {}
      },
      "source": [
        ""
      ],
      "execution_count": 0,
      "outputs": []
    }
  ]
}