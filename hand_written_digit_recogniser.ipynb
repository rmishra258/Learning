{
  "nbformat": 4,
  "nbformat_minor": 0,
  "metadata": {
    "colab": {
      "name": "hand written digit  recogniser.ipynb",
      "provenance": []
    },
    "kernelspec": {
      "name": "python3",
      "display_name": "Python 3"
    },
    "accelerator": "GPU"
  },
  "cells": [
    {
      "cell_type": "code",
      "metadata": {
        "id": "Bj75jF2C0xeC",
        "colab_type": "code",
        "colab": {}
      },
      "source": [
        "!pip install tensorflow\n",
        "!pip install keras\n"
      ],
      "execution_count": 0,
      "outputs": []
    },
    {
      "cell_type": "markdown",
      "metadata": {
        "id": "AEc4h_Nw1x4Y",
        "colab_type": "text"
      },
      "source": [
        "From samples images of hand written digits fro 0 - 9\n",
        "We will determine the number using CNN\n",
        "\n",
        "lets begin with importing libraries\n"
      ]
    },
    {
      "cell_type": "code",
      "metadata": {
        "id": "F5qFWWGuOzB9",
        "colab_type": "code",
        "colab": {}
      },
      "source": [
        "from keras.datasets import mnist #to get digits data\n",
        "import numpy as np #for data manipulation\n",
        "import matplotlib.pyplot as plt #for plotting\n",
        "import time #to check import time CPU vs GPU vs TPU"
      ],
      "execution_count": 0,
      "outputs": []
    },
    {
      "cell_type": "code",
      "metadata": {
        "id": "jKxEaV_-O2OT",
        "colab_type": "code",
        "colab": {}
      },
      "source": [
        "(x_train, y_train), (x_test, y_test) = mnist.load_data()\n"
      ],
      "execution_count": 0,
      "outputs": []
    },
    {
      "cell_type": "code",
      "metadata": {
        "id": "jk-fp262RtDn",
        "colab_type": "code",
        "colab": {
          "base_uri": "https://localhost:8080/",
          "height": 35
        },
        "outputId": "3ff67d9e-cbd9-4507-b3a1-c65231faa504"
      },
      "source": [
        "#we have 60,000 image samples to train from \n",
        "x_train.shape[0]"
      ],
      "execution_count": 44,
      "outputs": [
        {
          "output_type": "execute_result",
          "data": {
            "text/plain": [
              "60000"
            ]
          },
          "metadata": {
            "tags": []
          },
          "execution_count": 44
        }
      ]
    },
    {
      "cell_type": "code",
      "metadata": {
        "id": "UmYAxSxyO2R5",
        "colab_type": "code",
        "colab": {
          "base_uri": "https://localhost:8080/",
          "height": 268
        },
        "outputId": "c1dda7ed-0c55-4a6c-ef34-5b53977b2f29"
      },
      "source": [
        "#a sample of how each images look\n",
        "for i in range(9):\n",
        "\n",
        "  plt.subplot(330 + 1 + i)\n",
        "  plt.imshow(x_train[i])\n",
        "plt.show()"
      ],
      "execution_count": 45,
      "outputs": [
        {
          "output_type": "display_data",
          "data": {
            "image/png": "[encoded data removed]",
            "text/plain": [
              "<Figure size 432x288 with 9 Axes>"
            ]
          },
          "metadata": {
            "tags": []
          }
        }
      ]
    },
    {
      "cell_type": "code",
      "metadata": {
        "id": "x3PAI2XT11tA",
        "colab_type": "code",
        "colab": {}
      },
      "source": [
        "from keras.models import Sequential #sequential models for feedforward NN\n",
        "from keras.layers import Conv2D, Dense, Flatten, MaxPool2D, Dropout\n",
        "from keras.utils import to_categorical #since we are solving a classification problem\n",
        "from keras.callbacks import EarlyStopping #to stop training once the validation accuracy stops improving, this saves resurce and time"
      ],
      "execution_count": 0,
      "outputs": []
    },
    {
      "cell_type": "code",
      "metadata": {
        "id": "MsUeTS3yMe3p",
        "colab_type": "code",
        "colab": {}
      },
      "source": [
        "#lets create an instance of sequential models\n",
        "\n",
        "model = Sequential()\n"
      ],
      "execution_count": 0,
      "outputs": []
    },
    {
      "cell_type": "code",
      "metadata": {
        "id": "gCrpr2-yNA60",
        "colab_type": "code",
        "colab": {}
      },
      "source": [
        "#lets reshape our data to 28 x 28 pixels per image \n",
        "x_train = x_train.reshape(x_train.shape[0], 28,28,1)\n",
        "x_test = x_test.reshape(x_test.shape[0], 28,28,1)\n",
        "\n",
        "#converting the labels into categorical values\n",
        "y_train = to_categorical(y_train)"
      ],
      "execution_count": 0,
      "outputs": []
    },
    {
      "cell_type": "code",
      "metadata": {
        "id": "pEAKg8YZUWJd",
        "colab_type": "code",
        "colab": {
          "base_uri": "https://localhost:8080/",
          "height": 35
        },
        "outputId": "0f747922-a571-4235-8851-540474c09813"
      },
      "source": [
        "x_train.shape"
      ],
      "execution_count": 49,
      "outputs": [
        {
          "output_type": "execute_result",
          "data": {
            "text/plain": [
              "(60000, 28, 28, 1)"
            ]
          },
          "metadata": {
            "tags": []
          },
          "execution_count": 49
        }
      ]
    },
    {
      "cell_type": "markdown",
      "metadata": {
        "id": "rPVsWQUhN7Jw",
        "colab_type": "text"
      },
      "source": [
        "lets add convolutional layer to our model along with other hyperparameters like \n",
        "\n",
        "1.   Number of hidden layers\n",
        "2.   Kernel size\n",
        "3.   Input shape of our training data\n",
        "4.   Activation function (we shall use **Relu**)\n",
        "\n"
      ]
    },
    {
      "cell_type": "code",
      "metadata": {
        "id": "3cj6VmGFN8MW",
        "colab_type": "code",
        "colab": {}
      },
      "source": [
        "model.add(Conv2D(10, kernel_size=3,input_shape=(28,28,1), activation='relu'))"
      ],
      "execution_count": 0,
      "outputs": []
    },
    {
      "cell_type": "code",
      "metadata": {
        "id": "LA3r4ctLUEmc",
        "colab_type": "code",
        "colab": {}
      },
      "source": [
        "#lets add pooling layer to reduce the size of the input image by extracting on the brightest pixel\n",
        "model.add(MaxPool2D(2,2))"
      ],
      "execution_count": 0,
      "outputs": []
    },
    {
      "cell_type": "code",
      "metadata": {
        "id": "L4YfobMNfwWN",
        "colab_type": "code",
        "colab": {}
      },
      "source": [
        "#dropout layer to avoid overfitting\n",
        "model.add(Dropout(0.5))"
      ],
      "execution_count": 0,
      "outputs": []
    },
    {
      "cell_type": "code",
      "metadata": {
        "id": "vP2OY8PEifVE",
        "colab_type": "code",
        "colab": {}
      },
      "source": [
        "#add flatten layer to convert each feature data to single column\n",
        "model.add(Flatten())"
      ],
      "execution_count": 0,
      "outputs": []
    },
    {
      "cell_type": "code",
      "metadata": {
        "id": "Y1PflRkogfCb",
        "colab_type": "code",
        "colab": {}
      },
      "source": [
        "#lets add the final mandatory layer with 10 neurons and activation function as softmax which gives the probability of each class\n",
        "model.add(Dense(10, activation='softmax'))"
      ],
      "execution_count": 0,
      "outputs": []
    },
    {
      "cell_type": "code",
      "metadata": {
        "id": "dPHMnXgHfwcF",
        "colab_type": "code",
        "colab": {
          "base_uri": "https://localhost:8080/",
          "height": 328
        },
        "outputId": "e1fcbe0d-a594-4d59-803c-e51c0c58ea00"
      },
      "source": [
        "#lets check how our model looks\n",
        "model.summary()"
      ],
      "execution_count": 55,
      "outputs": [
        {
          "output_type": "stream",
          "text": [
            "Model: \"sequential_3\"\n",
            "_________________________________________________________________\n",
            "Layer (type)                 Output Shape              Param #   \n",
            "=================================================================\n",
            "conv2d_3 (Conv2D)            (None, 26, 26, 10)        100       \n",
            "_________________________________________________________________\n",
            "max_pooling2d_3 (MaxPooling2 (None, 13, 13, 10)        0         \n",
            "_________________________________________________________________\n",
            "dropout_3 (Dropout)          (None, 13, 13, 10)        0         \n",
            "_________________________________________________________________\n",
            "flatten_3 (Flatten)          (None, 1690)              0         \n",
            "_________________________________________________________________\n",
            "dense_3 (Dense)              (None, 10)                16910     \n",
            "=================================================================\n",
            "Total params: 17,010\n",
            "Trainable params: 17,010\n",
            "Non-trainable params: 0\n",
            "_________________________________________________________________\n"
          ],
          "name": "stdout"
        }
      ]
    },
    {
      "cell_type": "code",
      "metadata": {
        "id": "kx0pkrRJfwbD",
        "colab_type": "code",
        "colab": {}
      },
      "source": [
        "#lets compile the model\n",
        "model.compile(optimizer='adam', loss='categorical_crossentropy', metrics=['accuracy'])"
      ],
      "execution_count": 0,
      "outputs": []
    },
    {
      "cell_type": "code",
      "metadata": {
        "id": "ZxY1QY3NfwZH",
        "colab_type": "code",
        "colab": {
          "base_uri": "https://localhost:8080/",
          "height": 380
        },
        "outputId": "1c11e6cb-17aa-4102-9aae-6f5a39d24437"
      },
      "source": [
        "#training the model with 10 epochs, implementing early stopping, with batch size 128, and validation set of 30 percent\n",
        "start_time = time.time()\n",
        "model_v1 = model.fit(x_train, y_train, validation_split=0.3, batch_size=128, epochs=10, callbacks=[EarlyStopping(patience=3)]) \n",
        "\n",
        "#checking for time\n",
        "end_time = time.time()\n",
        "total_time = end_time - start_time"
      ],
      "execution_count": 57,
      "outputs": [
        {
          "output_type": "stream",
          "text": [
            "Train on 42000 samples, validate on 18000 samples\n",
            "Epoch 1/10\n",
            "42000/42000 [==============================] - 2s 46us/step - loss: 6.8720 - acc: 0.5614 - val_loss: 3.2733 - val_acc: 0.7889\n",
            "Epoch 2/10\n",
            "42000/42000 [==============================] - 2s 38us/step - loss: 3.4907 - acc: 0.7748 - val_loss: 2.7923 - val_acc: 0.8198\n",
            "Epoch 3/10\n",
            "42000/42000 [==============================] - 2s 36us/step - loss: 3.0106 - acc: 0.8050 - val_loss: 2.4794 - val_acc: 0.8404\n",
            "Epoch 4/10\n",
            "42000/42000 [==============================] - 2s 36us/step - loss: 1.9573 - acc: 0.8664 - val_loss: 1.1068 - val_acc: 0.9231\n",
            "Epoch 5/10\n",
            "42000/42000 [==============================] - 2s 36us/step - loss: 1.4254 - acc: 0.8988 - val_loss: 0.8320 - val_acc: 0.9393\n",
            "Epoch 6/10\n",
            "42000/42000 [==============================] - 2s 37us/step - loss: 1.1848 - acc: 0.9142 - val_loss: 0.7475 - val_acc: 0.9451\n",
            "Epoch 7/10\n",
            "42000/42000 [==============================] - 2s 37us/step - loss: 1.0294 - acc: 0.9228 - val_loss: 0.6368 - val_acc: 0.9514\n",
            "Epoch 8/10\n",
            "42000/42000 [==============================] - 2s 37us/step - loss: 0.8814 - acc: 0.9297 - val_loss: 0.5495 - val_acc: 0.9556\n",
            "Epoch 9/10\n",
            "42000/42000 [==============================] - 2s 37us/step - loss: 0.7378 - acc: 0.9341 - val_loss: 0.4028 - val_acc: 0.9584\n",
            "Epoch 10/10\n",
            "42000/42000 [==============================] - 2s 36us/step - loss: 0.4476 - acc: 0.9237 - val_loss: 0.1650 - val_acc: 0.9556\n"
          ],
          "name": "stdout"
        }
      ]
    },
    {
      "cell_type": "markdown",
      "metadata": {
        "id": "kPcv3LxXnaFV",
        "colab_type": "text"
      },
      "source": [
        "GPU performs the fatstest, to prove this I ran a test on CPU vs GPU vs TPU and timed the total training time and listed the results below, GPU performs almost 10x faster than CPU and TPU \n",
        "\n",
        "*   Total time on CPU = 118 seconds\n",
        "*   Total time on GPU = 20 seconds\n",
        "*   Total time on TPU = 121 seconds\n",
        "\n",
        "\n"
      ]
    },
    {
      "cell_type": "code",
      "metadata": {
        "id": "byaf2fJzdACU",
        "colab_type": "code",
        "colab": {
          "base_uri": "https://localhost:8080/",
          "height": 35
        },
        "outputId": "863a6daf-1920-43da-8173-b68d76016dc1"
      },
      "source": [
        "model_history.history.keys()"
      ],
      "execution_count": 58,
      "outputs": [
        {
          "output_type": "execute_result",
          "data": {
            "text/plain": [
              "dict_keys(['val_loss', 'val_acc', 'loss', 'acc'])"
            ]
          },
          "metadata": {
            "tags": []
          },
          "execution_count": 58
        }
      ]
    },
    {
      "cell_type": "code",
      "metadata": {
        "id": "9q-DEz6FkNJH",
        "colab_type": "code",
        "colab": {
          "base_uri": "https://localhost:8080/",
          "height": 312
        },
        "outputId": "99b351f7-a418-439b-d436-f95fd3fec8e6"
      },
      "source": [
        "#lets plot our performances\n",
        "# increase in accuracy per epoc\n",
        "\n",
        "plt.plot(np.array(model_v1.history['val_acc']) *100, marker='o')\n",
        "plt.title('Increase in accuracy per epochs')\n",
        "plt.xticks(np.arange(0,10))\n",
        "plt.xlabel('Epochs 1-10')\n",
        "plt.ylabel('Accuracy score in percentage')"
      ],
      "execution_count": 76,
      "outputs": [
        {
          "output_type": "execute_result",
          "data": {
            "text/plain": [
              "Text(0, 0.5, 'Accuracy score in percentage')"
            ]
          },
          "metadata": {
            "tags": []
          },
          "execution_count": 76
        },
        {
          "output_type": "display_data",
          "data": {
            "image/png": "[encoded data removed]",
            "text/plain": [
              "<Figure size 432x288 with 1 Axes>"
            ]
          },
          "metadata": {
            "tags": []
          }
        }
      ]
    },
    {
      "cell_type": "markdown",
      "metadata": {
        "id": "o_Zm65_-yVcc",
        "colab_type": "text"
      },
      "source": [
        "## Our models accuracy is 96%\n"
      ]
    },
    {
      "cell_type": "code",
      "metadata": {
        "id": "MQNbGCc0nYh7",
        "colab_type": "code",
        "colab": {
          "base_uri": "https://localhost:8080/",
          "height": 312
        },
        "outputId": "5ef92e63-93db-4b26-c3c8-9acb1f439f1d"
      },
      "source": [
        "#decrease on loss per epochs\n",
        "\n",
        "plt.plot(model_v1.history['val_loss'], marker='o')\n",
        "plt.xlabel('Epochs 1-10')\n",
        "plt.xticks(np.arange(0,10))\n",
        "plt.ylabel('loss')\n",
        "plt.title('Validation loss per epoch')"
      ],
      "execution_count": 78,
      "outputs": [
        {
          "output_type": "execute_result",
          "data": {
            "text/plain": [
              "Text(0.5, 1.0, 'Validation loss per epoch')"
            ]
          },
          "metadata": {
            "tags": []
          },
          "execution_count": 78
        },
        {
          "output_type": "display_data",
          "data": {
            "image/png": "[encoded data removed]",
            "text/plain": [
              "<Figure size 432x288 with 1 Axes>"
            ]
          },
          "metadata": {
            "tags": []
          }
        }
      ]
    },
    {
      "cell_type": "code",
      "metadata": {
        "id": "eC4Z8eo2pxDx",
        "colab_type": "code",
        "colab": {}
      },
      "source": [
        ""
      ],
      "execution_count": 0,
      "outputs": []
    },
    {
      "cell_type": "code",
      "metadata": {
        "id": "N_wabfWgqXWp",
        "colab_type": "code",
        "colab": {}
      },
      "source": [
        ""
      ],
      "execution_count": 0,
      "outputs": []
    },
    {
      "cell_type": "code",
      "metadata": {
        "id": "ryexalMOq3j7",
        "colab_type": "code",
        "colab": {}
      },
      "source": [
        ""
      ],
      "execution_count": 0,
      "outputs": []
    },
    {
      "cell_type": "code",
      "metadata": {
        "id": "X2rU-lpurDy7",
        "colab_type": "code",
        "colab": {}
      },
      "source": [
        ""
      ],
      "execution_count": 0,
      "outputs": []
    },
    {
      "cell_type": "code",
      "metadata": {
        "id": "NPNbbaQErFF9",
        "colab_type": "code",
        "colab": {}
      },
      "source": [
        ""
      ],
      "execution_count": 0,
      "outputs": []
    }
  ]
}